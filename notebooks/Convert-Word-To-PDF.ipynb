{
  "cells": [
    {
      "cell_type": "code",
      "execution_count": 78,
      "metadata": {},
      "outputs": [],
      "source": [
        "import os\n",
        "from spire.doc import Document\n",
        "from spire.doc import FileFormat"
      ]
    },
    {
      "cell_type": "code",
      "execution_count": 82,
      "metadata": {},
      "outputs": [],
      "source": [
        "def convert_docx_to_pdf(folder_path):\n",
        "    # Iterate over all files in the folder\n",
        "    for filename in os.listdir(folder_path):\n",
        "        if filename.endswith('.docx'):\n",
        "            docx_file = os.path.join(folder_path, filename)\n",
        "            pdf_file = os.path.join(folder_path, filename.replace('.docx', '.pdf'))\n",
        "            \n",
        "            # Load the .docx file\n",
        "            document = Document()\n",
        "            document.LoadFromFile(docx_file)\n",
        "            \n",
        "            # Save the document as a PDF\n",
        "            document.SaveToFile(pdf_file, FileFormat.PDF)\n",
        "            print(f'Converted {docx_file} to {pdf_file}')"
      ]
    },
    {
      "cell_type": "code",
      "execution_count": null,
      "metadata": {},
      "outputs": [],
      "source": [
        "# Replace 'your_folder_path' with the path to your folder\n",
        "folder_path = '../data/Policies'\n",
        "convert_docx_to_pdf(folder_path)"
      ]
    },
    {
      "cell_type": "code",
      "execution_count": 47,
      "metadata": {},
      "outputs": [],
      "source": [
        "def convert_doc_to_docx(doc_path, docx_path):\n",
        "    \"\"\"\n",
        "    Converts a .doc file to a .docx file using mammoth.\n",
        "\n",
        "    Args:\n",
        "        doc_path (str): The path to the .doc file.\n",
        "        docx_path (str): The path where the .docx file will be saved.\n",
        "    \"\"\"\n",
        "    with open(doc_path, \"rb\") as doc_file:\n",
        "        result = mammoth.convert_to_html(doc_file)\n",
        "        html = result.value  # The generated HTML\n",
        "        with open(docx_path.replace('.docx', '.html'), 'w', encoding='utf-8') as html_file:\n",
        "            html_file.write(html)\n",
        "    # Convert HTML to DOCX using python-docx\n",
        "    doc = Document()\n",
        "    doc.add_paragraph(html)\n",
        "    doc.save(docx_path)"
      ]
    },
    {
      "cell_type": "code",
      "execution_count": 48,
      "metadata": {},
      "outputs": [],
      "source": [
        "def doc_to_html(doc):\n",
        "    \"\"\"\n",
        "    Converts a Document object to an HTML string.\n",
        "\n",
        "    Args:\n",
        "        doc (Document): The Document object.\n",
        "\n",
        "    Returns:\n",
        "        str: The HTML representation of the document.\n",
        "    \"\"\"\n",
        "    html = '<html><body>'\n",
        "    for para in doc.paragraphs:\n",
        "        html += f'<p>{para.text}</p>'\n",
        "    html += '</body></html>'\n",
        "    return html"
      ]
    },
    {
      "cell_type": "code",
      "execution_count": 49,
      "metadata": {},
      "outputs": [],
      "source": [
        "def convert_docx_to_pdf(docx_path, pdf_path):\n",
        "    \"\"\"\n",
        "    Converts a .docx file to a PDF.\n",
        "\n",
        "    Args:\n",
        "        docx_path (str): The path to the .docx file.\n",
        "        pdf_path (str): The path where the PDF will be saved.\n",
        "    \"\"\"\n",
        "    doc = Document(docx_path)\n",
        "    html_path = docx_path.replace('.docx', '.html')\n",
        "    with open(html_path, 'w', encoding='utf-8') as f:\n",
        "        f.write(doc_to_html(doc))\n",
        "    pdfkit.from_file(html_path, pdf_path)\n",
        "    os.remove(html_path)"
      ]
    },
    {
      "cell_type": "code",
      "execution_count": 50,
      "metadata": {},
      "outputs": [],
      "source": [
        "def convert_docs_in_folder(folder_path):\n",
        "    \"\"\"\n",
        "    Converts all .doc and .docx files in a folder to PDFs and saves them in a 'converted' subfolder.\n",
        "\n",
        "    Args:\n",
        "        folder_path (str): The path to the folder containing the .doc and .docx files.\n",
        "    \"\"\"\n",
        "    converted_folder = os.path.join(folder_path, 'converted')\n",
        "    os.makedirs(converted_folder, exist_ok=True)\n",
        "\n",
        "    for filename in os.listdir(folder_path):\n",
        "        if filename.endswith('.doc'):\n",
        "            doc_path = os.path.join(folder_path, filename)\n",
        "            docx_path = os.path.join(converted_folder, filename.replace('.doc', '.docx'))\n",
        "            convert_doc_to_docx(doc_path, docx_path)\n",
        "            pdf_path = docx_path.replace('.docx', '.pdf')\n",
        "            convert_docx_to_pdf(docx_path, pdf_path)\n",
        "        elif filename.endswith('.docx'):\n",
        "            docx_path = os.path.join(folder_path, filename)\n",
        "            pdf_path = os.path.join(converted_folder, filename.replace('.docx', '.pdf'))\n",
        "            convert_docx_to_pdf(docx_path, pdf_path)\n",
        "    print('Conversion complete.')"
      ]
    },
    {
      "cell_type": "code",
      "execution_count": null,
      "metadata": {},
      "outputs": [],
      "source": [
        "# Specify the folder containing the .doc files\n",
        "folder_path = '..\\data\\Policies'\n",
        "convert_docs_in_folder(folder_path)"
      ]
    },
    {
      "cell_type": "code",
      "execution_count": 19,
      "metadata": {},
      "outputs": [],
      "source": [
        "def doc_to_html(doc):\n",
        "    \"\"\"\n",
        "    Converts a Document object to an HTML string.\n",
        "\n",
        "    Args:\n",
        "        doc (Document): The Document object.\n",
        "\n",
        "    Returns:\n",
        "        str: The HTML representation of the document.\n",
        "    \"\"\"\n",
        "    html = '<html><body>'\n",
        "    for para in doc.paragraphs:\n",
        "        html += f'<p>{para.text}</p>'\n",
        "    html += '</body></html>'\n",
        "    return html"
      ]
    },
    {
      "cell_type": "code",
      "execution_count": 20,
      "metadata": {},
      "outputs": [],
      "source": [
        "def convert_docx_to_pdf(docx_path, pdf_path):\n",
        "    \"\"\"\n",
        "    Converts a .docx file to a PDF.\n",
        "\n",
        "    Args:\n",
        "        docx_path (str): The path to the .docx file.\n",
        "        pdf_path (str): The path where the PDF will be saved.\n",
        "    \"\"\"\n",
        "    # Load the .docx file\n",
        "    doc = Document(docx_path)\n",
        "    # Save the content to an HTML file\n",
        "    html_path = docx_path.replace('.docx', '.html')\n",
        "    with open(html_path, 'w', encoding='utf-8') as f:\n",
        "        f.write(doc_to_html(doc))\n",
        "    # Convert the HTML file to PDF\n",
        "    pdfkit.from_file(html_path, pdf_path)\n",
        "    # Remove the temporary HTML file\n",
        "    os.remove(html_path)"
      ]
    },
    {
      "cell_type": "code",
      "execution_count": 21,
      "metadata": {},
      "outputs": [],
      "source": [
        "def convert_doc_to_pdf(doc_path, pdf_path):\n",
        "    \"\"\"\n",
        "    Converts a .doc file to a PDF using pypandoc.\n",
        "\n",
        "    Args:\n",
        "        doc_path (str): The path to the .doc file.\n",
        "        pdf_path (str): The path where the PDF will be saved.\n",
        "    \"\"\"\n",
        "    # Convert the .doc file to PDF\n",
        "    output = pypandoc.convert_file(doc_path, 'pdf', outputfile=pdf_path)\n",
        "    assert output == \"\""
      ]
    },
    {
      "cell_type": "code",
      "execution_count": 22,
      "metadata": {},
      "outputs": [],
      "source": [
        "def convert_docs_in_folder(folder_path):\n",
        "    \"\"\"\n",
        "    Converts all .doc and .docx files in a folder to PDFs and saves them in a 'converted' subfolder.\n",
        "\n",
        "    Args:\n",
        "        folder_path (str): The path to the folder containing the .doc and .docx files.\n",
        "    \"\"\"\n",
        "    # Create the 'converted' subfolder if it doesn't exist\n",
        "    converted_folder = os.path.join(folder_path, 'converted')\n",
        "    os.makedirs(converted_folder, exist_ok=True)\n",
        "\n",
        "    for filename in os.listdir(folder_path):\n",
        "        if filename.endswith('.docx'):\n",
        "            docx_path = os.path.join(folder_path, filename)\n",
        "            pdf_path = os.path.join(converted_folder, filename.replace('.docx', '.pdf'))\n",
        "            convert_docx_to_pdf(docx_path, pdf_path)\n",
        "        elif filename.endswith('.doc'):\n",
        "            doc_path = os.path.join(folder_path, filename)\n",
        "            pdf_path = os.path.join(converted_folder, filename.replace('.doc', '.pdf'))\n",
        "            convert_doc_to_pdf(doc_path, pdf_path)\n",
        "    print('Conversion complete.')"
      ]
    },
    {
      "cell_type": "code",
      "execution_count": null,
      "metadata": {},
      "outputs": [],
      "source": [
        "# Specify the folder containing the .docx files\n",
        "folder_path = \"..\\data\\Policies\"\n",
        "convert_docs_in_folder(folder_path)"
      ]
    }
  ],
  "metadata": {
    "kernel_info": {
      "name": "python310-sdkv2"
    },
    "kernelspec": {
      "display_name": "Python 3",
      "language": "python",
      "name": "python3"
    },
    "language_info": {
      "codemirror_mode": {
        "name": "ipython",
        "version": 3
      },
      "file_extension": ".py",
      "mimetype": "text/x-python",
      "name": "python",
      "nbconvert_exporter": "python",
      "pygments_lexer": "ipython3",
      "version": "3.10.5"
    },
    "microsoft": {
      "host": {
        "AzureML": {
          "notebookHasBeenCompleted": true
        }
      },
      "ms_spell_check": {
        "ms_spell_check_language": "en"
      }
    },
    "nteract": {
      "version": "nteract-front-end@1.0.0"
    }
  },
  "nbformat": 4,
  "nbformat_minor": 2
}
